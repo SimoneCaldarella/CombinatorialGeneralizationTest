{
 "metadata": {
  "orig_nbformat": 2,
  "kernelspec": {
   "name": "python3",
   "display_name": "Python 3",
   "language": "python"
  }
 },
 "nbformat": 4,
 "nbformat_minor": 2,
 "cells": [
  {
   "cell_type": "code",
   "execution_count": 1,
   "metadata": {},
   "outputs": [],
   "source": [
    "import os\n",
    "os.chdir('/home/hamza/projects/displacementae')"
   ]
  },
  {
   "cell_type": "code",
   "execution_count": 2,
   "metadata": {},
   "outputs": [],
   "source": [
    "import __init__\n",
    "from experiments import train_utils\n",
    "from ipywidgets import interact, interactive, fixed, interact_manual\n",
    "import ipywidgets as widgets\n",
    "import matplotlib.pyplot as plt\n",
    "import numpy as np"
   ]
  },
  {
   "cell_type": "code",
   "execution_count": 3,
   "metadata": {},
   "outputs": [],
   "source": [
    "import json\n",
    "from utils import test"
   ]
  },
  {
   "cell_type": "code",
   "execution_count": 12,
   "metadata": {},
   "outputs": [],
   "source": [
    "save_dir = '/home/hamza/projects/displacementae/saved/armeye/orthogonal_vae'"
   ]
  },
  {
   "cell_type": "code",
   "execution_count": 5,
   "metadata": {},
   "outputs": [],
   "source": [
    "class Config:\n",
    "    def __init__(self):\n",
    "        pass\n",
    "def load_config(id):\n",
    "    config = Config()\n",
    "    with open(os.path.join(save_dir,str(id),'config.json'),'r') as f:\n",
    "        config.__dict__ = json.load(f)\n",
    "    return config\n"
   ]
  },
  {
   "cell_type": "code",
   "execution_count": 6,
   "metadata": {},
   "outputs": [],
   "source": [
    "config = load_config(2)"
   ]
  },
  {
   "source": [
    "# Visualize distribs"
   ],
   "cell_type": "markdown",
   "metadata": {}
  },
  {
   "cell_type": "code",
   "execution_count": null,
   "metadata": {},
   "outputs": [],
   "source": []
  },
  {
   "cell_type": "code",
   "execution_count": 10,
   "metadata": {},
   "outputs": [],
   "source": [
    "step = dataset.joint_steps[1].to(config.device)\n"
   ]
  },
  {
   "cell_type": "code",
   "execution_count": null,
   "metadata": {},
   "outputs": [],
   "source": []
  },
  {
   "cell_type": "code",
   "execution_count": 15,
   "metadata": {},
   "outputs": [
    {
     "output_type": "execute_result",
     "data": {
      "text/plain": [
       "True"
      ]
     },
     "metadata": {},
     "execution_count": 15
    }
   ],
   "source": [
    "os.path.exists(os.path.join(save_dir,config.id,))"
   ]
  },
  {
   "cell_type": "code",
   "execution_count": 13,
   "metadata": {},
   "outputs": [
    {
     "output_type": "display_data",
     "data": {
      "text/plain": "interactive(children=(IntSlider(value=0, description='i', max=1), IntSlider(value=100, description='j', max=20…",
      "application/vnd.jupyter.widget-view+json": {
       "version_major": 2,
       "version_minor": 0,
       "model_id": "69ffd47e714b45d2a0c1b94ec21cd646"
      }
     },
     "metadata": {}
    }
   ],
   "source": [
    "@interact\n",
    "def load_n_plot(i=(0,1,1),j=(0,200,1)):\n",
    "    j_list = [2*k for k in range(5)] + [10*k for k in range(200)]\n",
    "    z,angles = test.load_distribs(save_dir,config.id,j_list[j])\n",
    "    plt.scatter(z[:,2*i],z[:,2*i+1],c=np.cos(angles[:,i+1]*step.item()))\n",
    "    plt.xlim([-5,5])\n",
    "    plt.ylim([-5,5])\n",
    "    clb = plt.colorbar()\n",
    "    clb.ax.set_title('cos( joint angle )')\n",
    "    plt.title(f'Learned latent, epoch {j}')"
   ]
  },
  {
   "cell_type": "code",
   "execution_count": null,
   "metadata": {},
   "outputs": [],
   "source": [
    "@interact\n",
    "def load_n_plot(i=(0,0,1),label=(0,2,1),j=(0,200,1)):\n",
    "    j_list = [2*k for k in range(5)] + [10*k for k in range(200)]\n",
    "    z,angles = test.load_distribs(save_dir,config.id,j_list[j])\n",
    "    plt.scatter(z[:,2*i],z[:,2*i+1],c=np.cos(angles[:,label+1]*step.item()))\n",
    "    plt.xlim([-5,5])\n",
    "    plt.ylim([-5,5])\n",
    "    clb = plt.colorbar()\n",
    "    clb.ax.set_title('cos( joint angle )')\n",
    "    plt.title(f'Learned latent, epoch {j}')"
   ]
  },
  {
   "cell_type": "code",
   "execution_count": 54,
   "metadata": {},
   "outputs": [
    {
     "output_type": "execute_result",
     "data": {
      "text/plain": [
       "False"
      ]
     },
     "metadata": {},
     "execution_count": 54
    }
   ],
   "source": [
    "config.intervene"
   ]
  },
  {
   "cell_type": "code",
   "execution_count": 8,
   "metadata": {},
   "outputs": [],
   "source": [
    "dataset,dataloader = train_utils.setup_data(config)"
   ]
  },
  {
   "cell_type": "code",
   "execution_count": 38,
   "metadata": {},
   "outputs": [],
   "source": [
    "config.device = 'cuda:5'"
   ]
  },
  {
   "cell_type": "code",
   "execution_count": 39,
   "metadata": {},
   "outputs": [],
   "source": [
    "model = train_utils.setup_model(config)"
   ]
  },
  {
   "cell_type": "code",
   "execution_count": null,
   "metadata": {},
   "outputs": [],
   "source": []
  }
 ]
}